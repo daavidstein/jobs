{
 "cells": [
  {
   "cell_type": "code",
   "execution_count": 85,
   "id": "ca57bac2-6522-476e-83fc-a0f42a3779a3",
   "metadata": {},
   "outputs": [],
   "source": [
    "import requests\n",
    "import json\n",
    "from lxml import html\n",
    "from typing import Dict, Any, List\n",
    "#from googlesearch import search\n",
    "from tqdm import tqdm\n",
    "from user_agent import generate_user_agent\n",
    "from urllib.parse import urlencode, urljoin\n",
    "from duckduckgo_search import DDGS"
   ]
  },
  {
   "cell_type": "code",
   "execution_count": 2,
   "id": "cfc72155-cb28-43de-b631-a92ba4f74944",
   "metadata": {},
   "outputs": [],
   "source": [
    "def get_job_data(job_url: str) -> Dict[str,Any]:\n",
    "    \"\"\"get job description metadata from a JD url\n",
    "    right now this only supports greenhouse (boards.greenhouse.io) JDs\n",
    "    \"\"\"\n",
    "    resp = requests.get(job_url)\n",
    "    tree = html.fromstring(resp.content.decode(\"utf-8\"))\n",
    "    #the json schema for the greenhouse JDs comes after this javascript tag\n",
    "    context = tree.xpath(f'/html/body/script[@type=\"application/ld+json\"]/text()')\n",
    "    assert len(context) == 1\n",
    "    schema = json.loads(context[0].strip(\"\\n\").strip())\n",
    "    return schema"
   ]
  },
  {
   "cell_type": "code",
   "execution_count": 89,
   "id": "f66c9cdb-1afa-4b82-8452-734b262ab0db",
   "metadata": {},
   "outputs": [],
   "source": [
    "def get_jobs_from_company(company_url: str, search_term: str =\"data scientist\", base_url=\"https://boards.greenhouse.io\"):\n",
    "    \"\"\"From a listing of jobs at a company, return the list of urls for job postings that are relevant to the search term\"\"\"\n",
    "    \n",
    "    company = requests.get(company_url)\n",
    "    html_resp = company.content.decode(\"utf-8\")\n",
    "    tree = html.fromstring(html_resp)\n",
    "    anchors = tree.xpath(f'/html/body//a')\n",
    "    new_links = list()\n",
    "    for a in anchors: \n",
    "        if search_term.lower() in a.text.lower():\n",
    "            new_link = a.values()[1]\n",
    "            if not new_link.startswith(base_url):\n",
    "                new_link = urljoin(base_url,new_link)\n",
    "            new_links.append(new_link)\n",
    "    return new_links\n",
    "            "
   ]
  },
  {
   "cell_type": "code",
   "execution_count": 90,
   "id": "9b5cf47e-fcdb-45a9-a27c-43909be9c7fd",
   "metadata": {},
   "outputs": [],
   "source": [
    "#deprecated - just use duckduckgo_search\n",
    "# class SearchJobs:\n",
    "#     \"\"\"Need to use this through a vpn\"\"\"\n",
    "#     def __init__(self,base_url: str = \"https://html.duckduckgo.com/html/\"):\n",
    "#         self.base_url = base_url\n",
    "#         self.headers = {'User-Agent': generate_user_agent(),\n",
    "#            'accept': '*/*',\n",
    "#             'accept-encoding': 'utf-8',\n",
    "#            'accept-language': 'en-US,en;q=0.9',\n",
    "#            }\n",
    "#         self.site = \"boards.greenhouse.io\"\n",
    "        \n",
    "#     def search(self,search_term: str) -> List[str]:\n",
    "#         if self.site:\n",
    "#             #note that including a comma in the join string will screw up the result__url\n",
    "#             query = \" \".join([search_term ,f\"site:{self.site}\"])\n",
    "            \n",
    "            \n",
    "#         query = urlencode({\"q\": query,\"s\":30, \"dc\": 31})\n",
    "        \n",
    "#         query = f\"{self.base_url}?{query}\"\n",
    "        \n",
    "#         results = requests.get(query, headers=self.headers )\n",
    "#         return self.parse_results(results)\n",
    "\n",
    "\n",
    "#     def parse_results(self,results)-> List[str]:\n",
    "\n",
    "#         decoded = results.content.decode('utf-8')\n",
    "#         tree = html.fromstring(decoded)\n",
    "#         #the class selector is specific to duckduckgo\n",
    "#         anchors = tree.xpath(f'/html/body//a[@class=\"result__url\"]')\n",
    "#       #  anchors = tree.xpath(f'/html/body//a[@class=\"result__url\"]/text()')\n",
    "#       #  return anchors\n",
    "#         hrefs = [a.attrib[\"href\"] for a in anchors]\n",
    "#         return [l.strip() for l in hrefs]\n"
   ]
  },
  {
   "cell_type": "code",
   "execution_count": 31,
   "id": "497ce7b5-9a94-4269-a63d-0f9404e51661",
   "metadata": {},
   "outputs": [
    {
     "data": {
      "text/plain": [
       "['https://boards.greenhouse.io/point72/jobs/4644238002',\n",
       " 'https://boards.greenhouse.io/gleanwork/jobs/4369272005',\n",
       " 'https://boards.greenhouse.io/blueoriginllc/jobs/4338813006?gh_jid=4338813006',\n",
       " 'https://boards.greenhouse.io/oddball/jobs/5897666003',\n",
       " 'https://boards.greenhouse.io/acorns/jobs/5586409',\n",
       " 'https://boards.greenhouse.io/garnerhealth/jobs/5063776004',\n",
       " 'https://boards.greenhouse.io/figma/jobs/5027898004',\n",
       " 'https://boards.greenhouse.io/valohealth/jobs/7067644002',\n",
       " 'https://boards.greenhouse.io/scribetherapeutics/jobs/4910734004',\n",
       " 'https://boards.greenhouse.io/faire/jobs/7014725002?gh_jid=7014725002',\n",
       " 'https://boards.greenhouse.io/perplexityai/jobs/4231718007',\n",
       " 'https://boards.greenhouse.io/andurilindustries/jobs/4268757007?gh_jid=4268757007',\n",
       " 'https://boards.greenhouse.io/smartsheet/jobs/5601508',\n",
       " 'https://boards.greenhouse.io/systemstechnologyresearch/jobs/4070954006',\n",
       " 'https://boards.greenhouse.io/moloco/jobs/5841703003',\n",
       " 'https://boards.greenhouse.io/alpaca/jobs/5076561004',\n",
       " 'https://boards.greenhouse.io/swishanalytics/jobs/4346382005',\n",
       " 'https://boards.greenhouse.io/sentilink/jobs/4060972007',\n",
       " 'https://boards.greenhouse.io/remotasks/jobs/4352042005',\n",
       " 'https://boards.greenhouse.io/thefloridapanthers/jobs/4309369006?source=TeamWork',\n",
       " 'https://boards.greenhouse.io/blenheimchalcotindia/jobs/5662262',\n",
       " 'https://boards.greenhouse.io/epicgames/jobs/5091831004']"
      ]
     },
     "execution_count": 31,
     "metadata": {},
     "output_type": "execute_result"
    }
   ],
   "source": [
    "searchjobs =SearchJobs()\n",
    "results = searchjobs.search(\"data scientist\")\n",
    "results"
   ]
  },
  {
   "cell_type": "code",
   "execution_count": 27,
   "id": "3a8a9966-1552-4c25-8d5b-7c59ef9ad1d1",
   "metadata": {},
   "outputs": [
    {
     "data": {
      "text/plain": [
       "[]"
      ]
     },
     "execution_count": 27,
     "metadata": {},
     "output_type": "execute_result"
    }
   ],
   "source": []
  },
  {
   "cell_type": "code",
   "execution_count": 5,
   "id": "825a3a9c-5b92-4f77-9887-f397329f8edc",
   "metadata": {},
   "outputs": [
    {
     "data": {
      "text/plain": [
       "[]"
      ]
     },
     "execution_count": 5,
     "metadata": {},
     "output_type": "execute_result"
    }
   ],
   "source": [
    "searchjobs =SearchJobs()\n",
    "searchjobs.search(\"data scientist\")"
   ]
  },
  {
   "cell_type": "code",
   "execution_count": 6,
   "id": "e30d8f7a-f1cd-441e-8879-7f26fbc5b1f7",
   "metadata": {},
   "outputs": [],
   "source": [
    "def parse_duck_results()-> List[str]:\n",
    "    headers = {'User-Agent': generate_user_agent(),\n",
    "           'accept': '*/*',\n",
    "           #'accept-encoding': 'gzip, deflate, br',\n",
    "            'accept-encoding': 'utf-8',\n",
    "\n",
    "           'accept-language': 'en-US,en;q=0.9',\n",
    "        #   'referer': 'https://www.google.com'\n",
    "\n",
    "           }\n",
    "\n",
    "    duck_search=\"https://html.duckduckgo.com/html/?q=%22data%20scientist%22%20site:%20boards.greenhouse.io\"\n",
    "    duck_results = requests.get(duck_search, headers=headers )\n",
    "    #FIXME take a search string, execute the search\n",
    "    decoded = duck_results.content.decode('utf-8')\n",
    "    tree = html.fromstring(decoded)\n",
    "    anchors = tree.xpath(f'/html/body//a[@class=\"result__url\"]')\n",
    "    hrefs = [a.attrib[\"href\"] for a in anchors]\n",
    "    return [l.strip() for l in hrefs]"
   ]
  },
  {
   "cell_type": "code",
   "execution_count": 7,
   "id": "b978252b-ffea-425f-b1c0-bb7073ada83c",
   "metadata": {},
   "outputs": [
    {
     "data": {
      "text/plain": [
       "{'@context': 'schema.org',\n",
       " '@type': 'JobPosting',\n",
       " 'hiringOrganization': {'@type': 'Organization',\n",
       "  'name': 'Remote',\n",
       "  'logo': 'https://s3-recruiting.cdn.greenhouse.io/external_greenhouse_job_boards/logos/400/495/700/resized/Greenhouse_Profile_Cover.png?1644510527'},\n",
       " 'title': 'Data Analyst',\n",
       " 'datePosted': '2023-11-30',\n",
       " 'jobLocation': {'@type': 'Place',\n",
       "  'address': {'@type': 'PostalAddress',\n",
       "   'addressLocality': 'Mexico City, Mexico City, Mexico',\n",
       "   'addressRegion': 'CMX',\n",
       "   'addressCountry': None,\n",
       "   'postalCode': None}},\n",
       " 'description': '<h2>About Remote</h2>\\n<p>Remote is solving global remote organizations’ biggest challenge: employing anyone anywhere compliantly. We make it possible for businesses big and small to employ a global team by handling global payroll, benefits, taxes, and compliance (learn more about <a href=\"https://remote.com/how-it-works\">how it works</a>). We\\'re backed by A+ investors and our team is world-class, literally and figuratively, as we\\'re all scattered around the world.</p>\\n<p>Please check out our&nbsp;public <a href=\"https://www.notion.so/a3439c6ccaac4d5f8c7515c357345c11?pvs=21\">handbook</a>&nbsp;to learn more about our culture.&nbsp;<strong>We encourage folks from all ethnic groups, genders, sexuality, age and abilities to apply.</strong> You can also check out independent reviews by other candidates on&nbsp;<a href=\"https://www.glassdoor.com/Overview/Working-at-Remote-EI_IE3871683.11,17.htm\">Glassdoor</a>. If this job description resonates with you, we want to hear from you!</p>\\n<p><strong>All of our positions are fully remote. You do not have to relocate to join us!</strong></p>\\n<h2>How we work</h2>\\n<p>We love <a href=\"https://www.notion.so/Working-Async-at-Remote-80c01cd443ad4c77a8ceaef7c5fba5d0?pvs=21\">working async</a> and this means you get to do your own schedule.</p>\\n<p>We empower ownership and proactivity and when in doubt default to action instead of waiting.</p>\\n<h2>The position</h2>\\n<p>This is an exciting time to join Remote and make a personal difference in the global employment space as a <strong>Data Analyst</strong>, joining our <strong>Operations Data Analytics</strong> team. You will be the link between data producers and data consumers at Remote. You\\'ll primarily focus on building out our data pipeline to unify our various data sources in a compliant manner. That being said, you should be committed to transforming data into readable insights, and help deliver goal-driven reports for continued innovation and growth.</p>\\n<h2>Requirements</h2>\\n<ul>\\n<li>2-4 years work experience in statistics, data analytics, software engineering or a related field; ideally in a fast-paced environment.</li>\\n<li>Strong ability to collaborate and build effective relationships with your colleagues.</li>\\n<li>Excellent communication skills and ability to document processes for both business and technical audiences.</li>\\n<li>A self-starter mentality and the ability to thrive in an unstructured and fast-paced environment.</li>\\n<li>Strong experience in SQL and previous experience with dbt.</li>\\n<li>Strong experience with Metabase or other data visualisation tools.</li>\\n<li>Proficiency with Git.</li>\\n<li>It\\'s not required to have experience working remotely, but considered as a plus.</li>\\n</ul>\\n<h2>Key responsibilities</h2>\\n<ul>\\n<li>Data Exploration &amp; Quality: contribute to a culture of higher standards by discovering, documenting and working towards improving the quality of our data.</li>\\n<li>Data Modelling: collaborate with data engineers and other data analysts and contribute to building the modelling layer of our data warehouse.</li>\\n<li>Data Analysis: support Operational Analytics team by creating an ad hoc data reports and dashboards.</li>\\n<li>Collaboration: collect requests from stakeholders and translate them into meaningful data. Collaborate with data engineers and other data analysts to create high-quality reports.</li>\\n</ul>\\n<p>Our current core data stack (among other tools) contains Metabase, Retool, dbt, Redshift, Meltano, Airflow and GitLab.</p>\\n<h2><strong>Remote Compensation Philosophy</strong></h2>\\n<p>Remote\\'s Total Rewards philosophy is to ensure fair, unbiased compensation and fair <a href=\"https://www.notion.so/people-Belonging-Diversity-Equity-Inclusion-DEI-4990e36a7d7b4d52a78ca3efb23d718b?pvs=21\">equity</a> pay along with competitive benefits in all locations in which we operate. We do not agree to or encourage cheap-labor practices and therefore we ensure to pay above in-location rates. We hope to inspire other companies to support global talent-hiring and bring local wealth to developing countries.</p>\\n<p>For U.S. applicants: Across all US locations, the base salary range for this full-time position is $28,660 - $60,000 plus eligibility for equity. Our salary ranges are determined by role, level and location, and our job titles may span more than one career level. The actual base pay for the successful candidate in this role is dependent upon many factors such as location, transferable or job-related skills, work experience, relevant training, business needs, and market demands. The base salary range is subject to change and may be modified in the future.</p>\\n<p>We offer a generous benefits package to all full-time employees. In the U.S. this includes: a 401(k) plan + 4% employer match, unlimited paid time off, paid sick leave in excess of local requirements, paid parental leave, FSA, HSA, health, dental and vision plans for you .Click <a href=\"https://www.notion.so/people-Benefits-perks-1e48a5869c274f40910b76d405b92f63?pvs=21\">here</a> for more information on our global employee benefits.</p>\\n<h2>Practicals</h2>\\n<ul>\\n<li><strong>You\\'ll report to:</strong> Manager, Data Analytics</li>\\n<li><strong>Team:</strong> Operations Data Analytics, ****Data, Engineering</li>\\n<li><strong>Location</strong>: Anywhere in the World</li>\\n<li><strong>Start date</strong>: As soon as possible</li>\\n</ul>\\n<h2>Application process</h2>\\n<ol>\\n<li>(async) Profile review</li>\\n<li>Interview with recruiter</li>\\n<li>Interview with future manager</li>\\n<li>(async) Small challenge</li>\\n<li>(async) Challenge Review</li>\\n<li>Interview with team members (no managers present)</li>\\n<li><a href=\"https://www.notion.so/Veremark-Remote-96e108c037b8423cbd4c3f07a1f9b38b?pvs=21\">Prior employment verification check(s)</a></li>\\n<li>(async) Offer</li>\\n</ol>\\n<p>#LI-DNP</p>\\n<p></p>'}"
      ]
     },
     "execution_count": 7,
     "metadata": {},
     "output_type": "execute_result"
    }
   ],
   "source": [
    "gh_context = get_job_data(\"https://boards.greenhouse.io/remotecom/jobs/5820671003\")\n",
    "gh_context"
   ]
  },
  {
   "cell_type": "code",
   "execution_count": 8,
   "id": "6e3b1d8d-9ff7-4254-b29c-04d8c3e92fe0",
   "metadata": {},
   "outputs": [],
   "source": [
    "resp = requests.get(\"https://www.google.com/search?q=site%3A+https%3A%2F%2Fboards.greenhouse.io%2F+data+scientist+after%3A2024%2F02%2F28&oq=site%3A+https%3A%2F%2Fboards.greenhouse.io%2F+data+scientist+after%3A2024%2F02%2F28&gs_lcrp=EgZjaHJvbWUyBggAEEUYOTIGCAEQRRg60gEINTQzM2owajeoAgCwAgA&sourceid=chrome&ie=UTF-8\")"
   ]
  },
  {
   "cell_type": "code",
   "execution_count": 9,
   "id": "4fda9d4a-1c15-4e4c-8814-bcb605066b76",
   "metadata": {},
   "outputs": [
    {
     "data": {
      "text/plain": [
       "<Response [200]>"
      ]
     },
     "execution_count": 9,
     "metadata": {},
     "output_type": "execute_result"
    }
   ],
   "source": [
    "resp"
   ]
  },
  {
   "cell_type": "code",
   "execution_count": 15,
   "id": "b49a8fdf-0bfd-489e-9f1a-91877e05a516",
   "metadata": {},
   "outputs": [],
   "source": [
    "headers = {'User-Agent': generate_user_agent(),\n",
    "           'accept': '*/*',\n",
    "           #'accept-encoding': 'gzip, deflate, br',\n",
    "            'accept-encoding': 'utf-8',\n",
    "\n",
    "           'accept-language': 'en-US,en;q=0.9',\n",
    "        #   'referer': 'https://www.google.com'\n",
    "\n",
    "           }"
   ]
  },
  {
   "cell_type": "markdown",
   "id": "2e66a220-6bdf-477f-9944-1effe4bc5e65",
   "metadata": {},
   "source": [
    "__paging__"
   ]
  },
  {
   "cell_type": "markdown",
   "id": "2d56c63c-ed01-4ea7-91c7-c24021edb001",
   "metadata": {},
   "source": [
    "https://stackoverflow.com/questions/35974954/duck-duck-go-html-version-get-next-page-of-results-url-query-param"
   ]
  },
  {
   "cell_type": "code",
   "execution_count": 35,
   "id": "969c0ae8-55d1-4884-aa62-6bf796d57877",
   "metadata": {},
   "outputs": [
    {
     "data": {
      "text/plain": [
       "['https://boards.greenhouse.io/point72/jobs/4644238002',\n",
       " 'https://boards.greenhouse.io/figma/jobs/4998647004',\n",
       " 'https://boards.greenhouse.io/figma/jobs/5027898004',\n",
       " 'https://boards.greenhouse.io/sentilink/jobs/4060972007',\n",
       " 'https://boards.greenhouse.io/acorns/jobs/5586409',\n",
       " 'https://boards.greenhouse.io/figma/jobs/4975816004',\n",
       " 'https://boards.greenhouse.io/systemstechnologyresearch/jobs/4070954006',\n",
       " 'https://boards.greenhouse.io/splice/jobs/7216245002',\n",
       " 'https://boards.greenhouse.io/scribetherapeutics/jobs/4910734004',\n",
       " 'https://boards.greenhouse.io/valohealth/jobs/7067644002',\n",
       " 'https://boards.greenhouse.io/smartsheet/jobs/5601508',\n",
       " 'https://boards.greenhouse.io/moloco/jobs/5841703003',\n",
       " 'https://boards.greenhouse.io/axios/jobs/5461591',\n",
       " 'https://boards.greenhouse.io/blueroseresearch/jobs/5085482004',\n",
       " 'https://boards.greenhouse.io/dataiku/jobs/5088535004',\n",
       " 'https://boards.greenhouse.io/focalsystems/jobs/4349786004',\n",
       " 'https://boards.greenhouse.io/blueoriginllc/jobs/4338813006?gh_jid=4338813006',\n",
       " 'https://boards.greenhouse.io/thefloridapanthers/jobs/4309369006?source=TeamWork',\n",
       " 'https://boards.greenhouse.io/notion/jobs/5895581003',\n",
       " 'https://boards.greenhouse.io/goguardian/jobs/4330455006',\n",
       " 'https://boards.greenhouse.io/gleanwork/jobs/4369272005',\n",
       " 'https://boards.greenhouse.io/snapdocs/jobs/5085344004']"
      ]
     },
     "execution_count": 35,
     "metadata": {},
     "output_type": "execute_result"
    }
   ],
   "source": [
    "headers = {'User-Agent': generate_user_agent(),\n",
    "       'accept': '*/*',\n",
    "       #'accept-encoding': 'gzip, deflate, br',\n",
    "        'accept-encoding': 'utf-8',\n",
    "\n",
    "       'accept-language': 'en-US,en;q=0.9',\n",
    "    #   'referer': 'https://www.google.com'\n",
    "\n",
    "       }\n",
    "duck_search=\"https://html.duckduckgo.com/html/?q=%22data%20scientist%22%20site:%20boards.greenhouse.io&s=30&dc=31\"\n",
    "duck_results = requests.get(duck_search, headers=headers )\n",
    "#FIXME take a search string, execute the search\n",
    "decoded = duck_results.content.decode('utf-8')\n",
    "tree = html.fromstring(decoded)\n",
    "anchors = tree.xpath(f'/html/body//a[@class=\"result__url\"]')\n",
    "hrefs = [a.attrib[\"href\"] for a in anchors]\n",
    "[l.strip() for l in hrefs]"
   ]
  },
  {
   "cell_type": "code",
   "execution_count": 37,
   "id": "899caed7-abb6-41dc-b53b-2e7b09fd4ca4",
   "metadata": {},
   "outputs": [
    {
     "data": {
      "text/plain": [
       "['https://boards.greenhouse.io/point72/jobs/4644238002',\n",
       " 'https://boards.greenhouse.io/figma/jobs/5027898004',\n",
       " 'https://boards.greenhouse.io/figma/jobs/4998647004',\n",
       " 'https://boards.greenhouse.io/dataiku/jobs/5088535004',\n",
       " 'https://boards.greenhouse.io/figma/jobs/4975816004',\n",
       " 'https://boards.greenhouse.io/notion/jobs/5895581003',\n",
       " 'https://boards.greenhouse.io/acorns/jobs/5586409',\n",
       " 'https://boards.greenhouse.io/systemstechnologyresearch/jobs/4070954006',\n",
       " 'https://boards.greenhouse.io/moloco/jobs/5841703003',\n",
       " 'https://boards.greenhouse.io/axios/jobs/5461591',\n",
       " 'https://boards.greenhouse.io/splice/jobs/7216245002',\n",
       " 'https://boards.greenhouse.io/smartsheet/jobs/5601508',\n",
       " 'https://boards.greenhouse.io/blueroseresearch/jobs/5085482004',\n",
       " 'https://boards.greenhouse.io/blueoriginllc/jobs/4338813006?gh_jid=4338813006',\n",
       " 'https://boards.greenhouse.io/scribetherapeutics/jobs/4910734004',\n",
       " 'https://boards.greenhouse.io/focalsystems/jobs/4349786004',\n",
       " 'https://boards.greenhouse.io/sentilink/jobs/4060972007',\n",
       " 'https://boards.greenhouse.io/valohealth/jobs/7067644002',\n",
       " 'https://boards.greenhouse.io/snapdocs/jobs/5085344004',\n",
       " 'https://boards.greenhouse.io/thefloridapanthers/jobs/4309369006?source=TeamWork',\n",
       " 'https://boards.greenhouse.io/goguardian/jobs/4330455006',\n",
       " 'https://boards.greenhouse.io/gleanwork/jobs/4369272005']"
      ]
     },
     "execution_count": 37,
     "metadata": {},
     "output_type": "execute_result"
    }
   ],
   "source": [
    "headers = {'User-Agent': generate_user_agent(),\n",
    "       'accept': '*/*',\n",
    "       #'accept-encoding': 'gzip, deflate, br',\n",
    "        'accept-encoding': 'utf-8',\n",
    "\n",
    "       'accept-language': 'en-US,en;q=0.9',\n",
    "    #   'referer': 'https://www.google.com'\n",
    "\n",
    "       }\n",
    "duck_search=\"https://html.duckduckgo.com/html/?q=%22data%20scientist%22%20site:%20boards.greenhouse.io&s=60&dc=61\"\n",
    "duck_results = requests.get(duck_search, headers=headers )\n",
    "#FIXME take a search string, execute the search\n",
    "decoded = duck_results.content.decode('utf-8')\n",
    "tree = html.fromstring(decoded)\n",
    "anchors = tree.xpath(f'/html/body//a[@class=\"result__url\"]')\n",
    "hrefs = [a.attrib[\"href\"] for a in anchors]\n",
    "[l.strip() for l in hrefs]"
   ]
  },
  {
   "cell_type": "code",
   "execution_count": 52,
   "id": "af774f4f-19c5-45f8-b489-1a7240cd5e0c",
   "metadata": {},
   "outputs": [],
   "source": [
    "with DDGS() as ddgs:\n",
    "    results = [r for r in ddgs.text(\"data scientist site:boards.greenhouse.io\", max_results=100)]"
   ]
  },
  {
   "cell_type": "code",
   "execution_count": 53,
   "id": "380544c6-6e6e-4d50-86f3-84ca9641b04e",
   "metadata": {},
   "outputs": [
    {
     "data": {
      "text/plain": [
       "100"
      ]
     },
     "execution_count": 53,
     "metadata": {},
     "output_type": "execute_result"
    }
   ],
   "source": [
    "len(results)"
   ]
  },
  {
   "cell_type": "code",
   "execution_count": 46,
   "id": "d7add470-5157-4c10-a67e-7b7381a9c670",
   "metadata": {},
   "outputs": [
    {
     "data": {
      "text/plain": [
       "['https://boards.greenhouse.io/point72/jobs/4644238002',\n",
       " 'https://boards.greenhouse.io/andurilindustries/jobs/4268757007?gh_jid=4268757007',\n",
       " 'https://boards.greenhouse.io/gleanwork/jobs/4369272005',\n",
       " 'https://boards.greenhouse.io/blueoriginllc/jobs/4338813006?gh_jid=4338813006',\n",
       " 'https://boards.greenhouse.io/acorns/jobs/5586409',\n",
       " 'https://boards.greenhouse.io/figma/jobs/5027898004',\n",
       " 'https://boards.greenhouse.io/valohealth/jobs/7104398002',\n",
       " 'https://boards.greenhouse.io/perplexityai/jobs/4231718007',\n",
       " 'https://boards.greenhouse.io/scribetherapeutics/jobs/4910734004',\n",
       " 'https://boards.greenhouse.io/bigid/jobs/7080745002',\n",
       " 'https://boards.greenhouse.io/smartsheet/jobs/5601508',\n",
       " 'https://boards.greenhouse.io/openai/jobs/4799588004',\n",
       " 'https://boards.greenhouse.io/carta/jobs/5892496003',\n",
       " 'https://boards.greenhouse.io/systemstechnologyresearch/jobs/4070954006',\n",
       " 'https://boards.greenhouse.io/swishanalytics/jobs/4346382005',\n",
       " 'https://boards.greenhouse.io/moloco/jobs/5841703003',\n",
       " 'https://boards.greenhouse.io/sentilink/jobs/4060972007',\n",
       " 'https://boards.greenhouse.io/alpaca/jobs/5076561004',\n",
       " 'https://boards.greenhouse.io/remotasks/jobs/4352042005',\n",
       " 'https://boards.greenhouse.io/thefloridapanthers/jobs/4309369006?source=TeamWork',\n",
       " 'https://boards.greenhouse.io/notion/jobs/5895559003',\n",
       " 'https://boards.greenhouse.io/blenheimchalcotindia/jobs/5662262',\n",
       " 'https://boards.greenhouse.io/epicgames/jobs/5091831004',\n",
       " 'https://boards.greenhouse.io/figma/jobs/4998647004',\n",
       " 'https://boards.greenhouse.io/moloco',\n",
       " 'https://boards.greenhouse.io/duolingo/jobs/7057891002',\n",
       " 'https://boards.greenhouse.io/mercury/jobs/5063966004',\n",
       " 'https://boards.greenhouse.io/axios/jobs/5461591',\n",
       " 'https://boards.greenhouse.io/montaihealth/jobs/7017011002',\n",
       " 'https://boards.greenhouse.io/garnerhealth/jobs/5046222004',\n",
       " 'https://boards.greenhouse.io/openmesh/jobs/4145580007',\n",
       " 'https://boards.greenhouse.io/similarweb/jobs/5625747',\n",
       " 'https://boards.greenhouse.io/tempus/jobs/6897081002',\n",
       " 'https://boards.greenhouse.io/swishanalytics/',\n",
       " 'https://boards.greenhouse.io/altoslabs/jobs/4908190004',\n",
       " 'https://boards.greenhouse.io/verikai/jobs/5693696003',\n",
       " 'https://boards.greenhouse.io/valohealth/jobs/7067644002',\n",
       " 'https://boards.greenhouse.io/splice/jobs/7216245002',\n",
       " 'https://boards.greenhouse.io/foodpandapakistan/jobs/5696227',\n",
       " 'https://boards.greenhouse.io/moloco/jobs/5832424003',\n",
       " 'https://boards.greenhouse.io/mineral/jobs/4281845006',\n",
       " 'https://boards.greenhouse.io/koboldmetals/jobs/4283639005',\n",
       " 'https://boards.greenhouse.io/blueroseresearch/jobs/5085482004',\n",
       " 'https://boards.greenhouse.io/moloco/jobs/5777050003',\n",
       " 'https://boards.greenhouse.io/valohealth',\n",
       " 'https://boards.greenhouse.io/duolingo/jobs/7124861002',\n",
       " 'https://boards.greenhouse.io/envoy/jobs/7231909002',\n",
       " 'https://boards.greenhouse.io/alma/jobs/7251555002',\n",
       " 'https://boards.greenhouse.io/notion',\n",
       " 'https://boards.greenhouse.io/niantic/jobs/7068035002',\n",
       " 'https://boards.greenhouse.io/hoyoverse/jobs/4126842007',\n",
       " 'https://boards.greenhouse.io/wellth/jobs/4306421006',\n",
       " 'https://boards.greenhouse.io/insitro/jobs/4295590006',\n",
       " 'https://boards.greenhouse.io/creditkarma/jobs/5814193003',\n",
       " 'https://boards.greenhouse.io/blenheimchalcotindia/jobs/5662311',\n",
       " 'https://boards.greenhouse.io/monzo/jobs/4323836',\n",
       " 'https://boards.greenhouse.io/figma/jobs/4975816004',\n",
       " 'https://boards.greenhouse.io/raft/jobs/4950516004',\n",
       " 'https://boards.greenhouse.io/putnamassociatesllc/jobs/5672902',\n",
       " 'https://boards.greenhouse.io/figma/jobs/4956894004',\n",
       " 'https://boards.greenhouse.io/gofundme/jobs/5514429',\n",
       " 'https://boards.greenhouse.io/blueroseresearch/jobs/4276345004',\n",
       " 'https://boards.greenhouse.io/pearlhealth/jobs/5832924003',\n",
       " 'https://boards.greenhouse.io/thumbtack/jobs/5477724',\n",
       " 'https://boards.greenhouse.io/niantic/jobs/6975223002',\n",
       " 'https://boards.greenhouse.io/garnerhealth/jobs/5063776004',\n",
       " 'https://boards.greenhouse.io/oddball/jobs/5897666003',\n",
       " 'https://boards.greenhouse.io/rhombuspower',\n",
       " 'https://boards.greenhouse.io/civisanalytics/jobs/5563457',\n",
       " 'https://boards.greenhouse.io/m1finance/jobs/5538980',\n",
       " 'https://boards.greenhouse.io/insitro',\n",
       " 'https://boards.greenhouse.io/alethea/jobs/5051094004',\n",
       " 'https://boards.greenhouse.io/robinhood/jobs/5645970?gh_jid=5645970',\n",
       " 'https://boards.greenhouse.io/paveakatroveinformationtechnologies/jobs/4338745005',\n",
       " 'https://boards.greenhouse.io/ethoslife/jobs/6974456002?source=LinkedIn',\n",
       " 'https://boards.greenhouse.io/tripadvisor/jobs/5551798',\n",
       " 'https://boards.greenhouse.io/myntra/jobs/7216927002',\n",
       " 'https://boards.greenhouse.io/exoduspoint/jobs/7108071002',\n",
       " 'https://boards.greenhouse.io/tempus/jobs/6993207002',\n",
       " 'https://boards.greenhouse.io/epicgames/jobs/5091833004',\n",
       " 'https://boards.greenhouse.io/spanio/jobs/5882403003',\n",
       " 'https://boards.greenhouse.io/robinhood/jobs/5685524?gh_jid=5685524',\n",
       " 'https://boards.greenhouse.io/similarweb/jobs/5316336',\n",
       " 'https://boards.greenhouse.io/pomelocare/jobs/5063735004',\n",
       " 'https://boards.greenhouse.io/apartmentlist/jobs/5834632003',\n",
       " 'https://boards.greenhouse.io/figma/jobs/4881313004',\n",
       " 'https://boards.greenhouse.io/notion/jobs/5759768003',\n",
       " 'https://boards.greenhouse.io/stackline/jobs/4365953005',\n",
       " 'https://boards.greenhouse.io/osmo/jobs/4313428006?gh_jid=4313428006',\n",
       " 'https://boards.greenhouse.io/tempus/jobs/6897091002',\n",
       " 'https://boards.greenhouse.io/duolingo',\n",
       " 'https://boards.greenhouse.io/appier/jobs/1501726',\n",
       " 'https://boards.greenhouse.io/innovaccer/jobs/7237278002',\n",
       " 'https://boards.greenhouse.io/faire/jobs/7081451002?gh_jid=7081451002',\n",
       " 'https://boards.greenhouse.io/podium81/jobs/5742900',\n",
       " 'https://boards.greenhouse.io/grammarly/jobs/5537583',\n",
       " 'https://boards.greenhouse.io/duolingo/jobs/7124765002',\n",
       " 'https://boards.greenhouse.io/tripadvisor',\n",
       " 'https://boards.greenhouse.io/yousician/jobs/7074282002',\n",
       " 'https://boards.greenhouse.io/blueroseresearch']"
      ]
     },
     "execution_count": 46,
     "metadata": {},
     "output_type": "execute_result"
    }
   ],
   "source": [
    "links = [l[\"href\"] for l in results]\n",
    "links"
   ]
  },
  {
   "cell_type": "code",
   "execution_count": 47,
   "id": "b38518cb-9251-46ab-b020-794ace396824",
   "metadata": {},
   "outputs": [
    {
     "data": {
      "text/plain": [
       "100"
      ]
     },
     "execution_count": 47,
     "metadata": {},
     "output_type": "execute_result"
    }
   ],
   "source": [
    "len(list(set(links)))"
   ]
  },
  {
   "cell_type": "markdown",
   "id": "c4f12975-b1b4-4bd6-be17-d42d1783cefc",
   "metadata": {},
   "source": [
    "so basically if a link has hte prefix https://boards.greenhouse.io/company/jobs, scrape the job metadata. if it is just  https://boards.greenhouse.io/company/, then go to the company site and look for links where the anchor text or heading has the search term, and then add those to the list of jobs to scrape"
   ]
  },
  {
   "cell_type": "code",
   "execution_count": 54,
   "id": "4946b614-52ff-4e07-9738-b6bbfe81b783",
   "metadata": {},
   "outputs": [],
   "source": [
    "company_url = \"https://boards.greenhouse.io/notion\"\n",
    "company = requests.get(company_url)"
   ]
  },
  {
   "cell_type": "code",
   "execution_count": 57,
   "id": "76560421-79f6-47de-a668-f8d4bca37a9e",
   "metadata": {},
   "outputs": [],
   "source": [
    "html_resp = company.content.decode(\"utf-8\")"
   ]
  },
  {
   "cell_type": "code",
   "execution_count": 64,
   "id": "ae665c88-1a03-404c-a5f7-5995a94701ef",
   "metadata": {},
   "outputs": [],
   "source": [
    "tree = html.fromstring(html_resp)\n",
    "anchors = tree.xpath(f'/html/body//a')"
   ]
  },
  {
   "cell_type": "code",
   "execution_count": 74,
   "id": "5aaa086b-19b1-492c-824d-589704395f3e",
   "metadata": {},
   "outputs": [],
   "source": [
    "search_term = \"data scientist\"\n",
    "new_links = list()\n",
    "for a in anchors: \n",
    "    if search_term.lower() in a.text.lower():\n",
    "        new_links.append(a.values()[1])\n",
    "        "
   ]
  },
  {
   "cell_type": "code",
   "execution_count": 75,
   "id": "7ea381fd-b9ec-40eb-aae9-5a6252cfc370",
   "metadata": {},
   "outputs": [
    {
     "data": {
      "text/plain": [
       "['/notion/jobs/5759768003',\n",
       " '/notion/jobs/5895559003',\n",
       " '/notion/jobs/5895581003',\n",
       " '/notion/jobs/5895534003']"
      ]
     },
     "execution_count": 75,
     "metadata": {},
     "output_type": "execute_result"
    }
   ],
   "source": [
    "new_links"
   ]
  },
  {
   "cell_type": "code",
   "execution_count": 70,
   "id": "d0887421-1d46-49b9-8ed3-3ec46ffe6e75",
   "metadata": {},
   "outputs": [],
   "source": [
    "a.base_url"
   ]
  },
  {
   "cell_type": "code",
   "execution_count": 73,
   "id": "b7ed16f8-ad60-4a79-9807-6c0b31e59083",
   "metadata": {},
   "outputs": [
    {
     "data": {
      "text/plain": [
       "['true', '/notion/jobs/5759768003']"
      ]
     },
     "execution_count": 73,
     "metadata": {},
     "output_type": "execute_result"
    }
   ],
   "source": [
    "a.values()"
   ]
  },
  {
   "cell_type": "code",
   "execution_count": 87,
   "id": "dac40d0d-2a7b-4ea4-9f3c-239d3fce87e4",
   "metadata": {},
   "outputs": [
    {
     "data": {
      "text/plain": [
       "['https://boards.greenhouse.io/notion/jobs/5759768003',\n",
       " 'https://boards.greenhouse.io/notion/jobs/5895559003',\n",
       " 'https://boards.greenhouse.io/notion/jobs/5895581003',\n",
       " 'https://boards.greenhouse.io/notion/jobs/5895534003']"
      ]
     },
     "execution_count": 87,
     "metadata": {},
     "output_type": "execute_result"
    }
   ],
   "source": [
    "get_jobs_from_company(company_url)"
   ]
  },
  {
   "cell_type": "code",
   "execution_count": null,
   "id": "67a373b3-68b1-4ba4-99b2-31b011ded363",
   "metadata": {},
   "outputs": [],
   "source": []
  }
 ],
 "metadata": {
  "kernelspec": {
   "display_name": "Python 3 (ipykernel)",
   "language": "python",
   "name": "python3"
  },
  "language_info": {
   "codemirror_mode": {
    "name": "ipython",
    "version": 3
   },
   "file_extension": ".py",
   "mimetype": "text/x-python",
   "name": "python",
   "nbconvert_exporter": "python",
   "pygments_lexer": "ipython3",
   "version": "3.10.13"
  }
 },
 "nbformat": 4,
 "nbformat_minor": 5
}
